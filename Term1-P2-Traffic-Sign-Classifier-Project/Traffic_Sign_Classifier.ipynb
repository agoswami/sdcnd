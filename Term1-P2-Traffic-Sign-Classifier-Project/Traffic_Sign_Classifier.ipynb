{
 "cells": [
  {
   "cell_type": "markdown",
   "metadata": {},
   "source": [
    "# Self-Driving Car Engineer Nanodegree\n",
    "\n",
    "## Deep Learning\n",
    "\n",
    "## Project: Build a Traffic Sign Recognition Classifier\n",
    "\n",
    "In this notebook, a template is provided for you to implement your functionality in stages, which is required to successfully complete this project. If additional code is required that cannot be included in the notebook, be sure that the Python code is successfully imported and included in your submission if necessary. \n",
    "\n",
    "> **Note**: Once you have completed all of the code implementations, you need to finalize your work by exporting the iPython Notebook as an HTML document. Before exporting the notebook to html, all of the code cells need to have been run so that reviewers can see the final implementation and output. You can then export the notebook by using the menu above and navigating to  \\n\",\n",
    "    \"**File -> Download as -> HTML (.html)**. Include the finished document along with this notebook as your submission. \n",
    "\n",
    "In addition to implementing code, there is a writeup to complete. The writeup should be completed in a separate file, which can be either a markdown file or a pdf document. There is a [write up template](https://github.com/udacity/CarND-Traffic-Sign-Classifier-Project/blob/master/writeup_template.md) that can be used to guide the writing process. Completing the code template and writeup template will cover all of the [rubric points](https://review.udacity.com/#!/rubrics/481/view) for this project.\n",
    "\n",
    "The [rubric](https://review.udacity.com/#!/rubrics/481/view) contains \"Stand Out Suggestions\" for enhancing the project beyond the minimum requirements. The stand out suggestions are optional. If you decide to pursue the \"stand out suggestions\", you can include the code in this Ipython notebook and also discuss the results in the writeup file.\n",
    "\n",
    "\n",
    ">**Note:** Code and Markdown cells can be executed using the **Shift + Enter** keyboard shortcut. In addition, Markdown cells can be edited by typically double-clicking the cell to enter edit mode."
   ]
  },
  {
   "cell_type": "markdown",
   "metadata": {},
   "source": [
    "---\n",
    "## Step 0: Load The Data"
   ]
  },
  {
   "cell_type": "code",
   "execution_count": 1,
   "metadata": {},
   "outputs": [],
   "source": [
    "# Load pickled data\n",
    "import pickle\n",
    "\n",
    "# Fill this based on where you saved the training and testing data\n",
    "\n",
    "training_file = 'train.p'\n",
    "validation_file= 'valid.p'\n",
    "testing_file = 'test.p'\n",
    "\n",
    "# Load file into train, valid and test variables\n",
    "with open(training_file, mode='rb') as f:\n",
    "    train = pickle.load(f)\n",
    "with open(validation_file, mode='rb') as f:\n",
    "    valid = pickle.load(f)\n",
    "with open(testing_file, mode='rb') as f:\n",
    "    test = pickle.load(f)\n",
    "    \n",
    "# Set X_train/X_valid/X_test and y_train/y_valid/y_test variables\n",
    "X_train, y_train = train['features'], train['labels']\n",
    "X_valid, y_valid = valid['features'], valid['labels']\n",
    "X_test, y_test = test['features'], test['labels']"
   ]
  },
  {
   "cell_type": "markdown",
   "metadata": {},
   "source": [
    "---\n",
    "\n",
    "## Step 1: Dataset Summary & Exploration\n",
    "\n",
    "The pickled data is a dictionary with 4 key/value pairs:\n",
    "\n",
    "- `'features'` is a 4D array containing raw pixel data of the traffic sign images, (num examples, width, height, channels).\n",
    "- `'labels'` is a 1D array containing the label/class id of the traffic sign. The file `signnames.csv` contains id -> name mappings for each id.\n",
    "- `'sizes'` is a list containing tuples, (width, height) representing the original width and height the image.\n",
    "- `'coords'` is a list containing tuples, (x1, y1, x2, y2) representing coordinates of a bounding box around the sign in the image. **THESE COORDINATES ASSUME THE ORIGINAL IMAGE. THE PICKLED DATA CONTAINS RESIZED VERSIONS (32 by 32) OF THESE IMAGES**\n",
    "\n",
    "Complete the basic data summary below. Use python, numpy and/or pandas methods to calculate the data summary rather than hard coding the results. For example, the [pandas shape method](http://pandas.pydata.org/pandas-docs/stable/generated/pandas.DataFrame.shape.html) might be useful for calculating some of the summary results. "
   ]
  },
  {
   "cell_type": "markdown",
   "metadata": {},
   "source": [
    "### Provide a Basic Summary of the Data Set Using Python, Numpy and/or Pandas"
   ]
  },
  {
   "cell_type": "code",
   "execution_count": 2,
   "metadata": {},
   "outputs": [
    {
     "name": "stdout",
     "output_type": "stream",
     "text": [
      "Number of training examples = 34799\n",
      "Training data group by classes 2     2010\n",
      "1     1980\n",
      "13    1920\n",
      "12    1890\n",
      "38    1860\n",
      "10    1800\n",
      "4     1770\n",
      "5     1650\n",
      "25    1350\n",
      "9     1320\n",
      "7     1290\n",
      "8     1260\n",
      "3     1260\n",
      "11    1170\n",
      "18    1080\n",
      "35    1080\n",
      "17     990\n",
      "31     690\n",
      "14     690\n",
      "33     599\n",
      "15     540\n",
      "26     540\n",
      "28     480\n",
      "23     450\n",
      "30     390\n",
      "34     360\n",
      "6      360\n",
      "16     360\n",
      "22     330\n",
      "36     330\n",
      "40     300\n",
      "20     300\n",
      "21     270\n",
      "39     270\n",
      "24     240\n",
      "29     240\n",
      "32     210\n",
      "42     210\n",
      "41     210\n",
      "27     210\n",
      "37     180\n",
      "19     180\n",
      "0      180\n",
      "dtype: int64\n",
      "Number of training examples = 4410\n",
      "Training data group by classes 2     240\n",
      "1     240\n",
      "13    240\n",
      "10    210\n",
      "4     210\n",
      "5     210\n",
      "38    210\n",
      "12    210\n",
      "25    150\n",
      "3     150\n",
      "7     150\n",
      "11    150\n",
      "9     150\n",
      "8     150\n",
      "17    120\n",
      "35    120\n",
      "18    120\n",
      "33     90\n",
      "14     90\n",
      "15     90\n",
      "31     90\n",
      "6      60\n",
      "28     60\n",
      "36     60\n",
      "16     60\n",
      "22     60\n",
      "20     60\n",
      "26     60\n",
      "21     60\n",
      "30     60\n",
      "34     60\n",
      "23     60\n",
      "40     60\n",
      "39     30\n",
      "24     30\n",
      "41     30\n",
      "32     30\n",
      "29     30\n",
      "37     30\n",
      "42     30\n",
      "19     30\n",
      "27     30\n",
      "0      30\n",
      "dtype: int64\n",
      "Number of testing examples = 12630\n",
      "Training data group by classes 2     750\n",
      "1     720\n",
      "13    720\n",
      "12    690\n",
      "38    690\n",
      "10    660\n",
      "4     660\n",
      "5     630\n",
      "25    480\n",
      "9     480\n",
      "3     450\n",
      "8     450\n",
      "7     450\n",
      "11    420\n",
      "35    390\n",
      "18    390\n",
      "17    360\n",
      "14    270\n",
      "31    270\n",
      "15    210\n",
      "33    210\n",
      "26    180\n",
      "28    150\n",
      "23    150\n",
      "16    150\n",
      "30    150\n",
      "6     150\n",
      "22    120\n",
      "34    120\n",
      "36    120\n",
      "24     90\n",
      "39     90\n",
      "42     90\n",
      "20     90\n",
      "21     90\n",
      "29     90\n",
      "40     90\n",
      "32     60\n",
      "27     60\n",
      "41     60\n",
      "19     60\n",
      "37     60\n",
      "0      60\n",
      "dtype: int64\n",
      "Image data shape = (32, 32, 3)\n",
      "Number of classes = 43\n"
     ]
    }
   ],
   "source": [
    "### Replace each question mark with the appropriate value. \n",
    "### Use python, pandas or numpy methods rather than hard coding the results\n",
    "import pandas as pd\n",
    "import numpy as np\n",
    "\n",
    "# Number of training examples\n",
    "#n_train = pd.DataFrame(train['labels']).size\n",
    "n_train = np.matrix(train['labels']).size\n",
    "\n",
    "# Number of validation examples\n",
    "#n_validation = pd.DataFrame(valid['labels']).size\n",
    "n_validation = np.matrix(valid['labels']).size\n",
    "\n",
    "# Number of testing examples.\n",
    "#n_test = pd.DataFrame(test['labels']).size\n",
    "n_test = np.matrix(test['labels']).size\n",
    "\n",
    "# What's the shape of an traffic sign image?\n",
    "image_shape = X_train[0].shape\n",
    "\n",
    "# How many unique classes/labels there are in the dataset.\n",
    "#n_classes = pd.DataFrame(train['labels']).nunique()\n",
    "n_classes = np.unique(train['labels']).size\n",
    "\n",
    "# Print out various info from the data sets\n",
    "print(\"Number of training examples =\", n_train)\n",
    "print (\"Training data group by classes\",pd.Series(train['labels']).value_counts())\n",
    "print(\"Number of training examples =\", n_validation)\n",
    "print (\"Training data group by classes\",pd.Series(valid['labels']).value_counts())\n",
    "print(\"Number of testing examples =\", n_test)\n",
    "print (\"Training data group by classes\",pd.Series(test['labels']).value_counts())\n",
    "print(\"Image data shape =\", image_shape)\n",
    "print(\"Number of classes =\", n_classes)"
   ]
  },
  {
   "cell_type": "markdown",
   "metadata": {},
   "source": [
    "### Include an exploratory visualization of the dataset"
   ]
  },
  {
   "cell_type": "markdown",
   "metadata": {},
   "source": [
    "Visualize the German Traffic Signs Dataset using the pickled file(s). This is open ended, suggestions include: plotting traffic sign images, plotting the count of each sign, etc. \n",
    "\n",
    "The [Matplotlib](http://matplotlib.org/) [examples](http://matplotlib.org/examples/index.html) and [gallery](http://matplotlib.org/gallery.html) pages are a great resource for doing visualizations in Python.\n",
    "\n",
    "**NOTE:** It's recommended you start with something simple first. If you wish to do more, come back to it after you've completed the rest of the sections. It can be interesting to look at the distribution of classes in the training, validation and test set. Is the distribution the same? Are there more examples of some classes than others?"
   ]
  },
  {
   "cell_type": "code",
   "execution_count": 3,
   "metadata": {},
   "outputs": [
    {
     "data": {
      "image/png": "[encoded data removed]",
      "text/plain": [
       "<matplotlib.figure.Figure at 0x7f9f273fad68>"
      ]
     },
     "metadata": {},
     "output_type": "display_data"
    },
    {
     "data": {
      "image/png": "[encoded data removed]",
      "text/plain": [
       "<matplotlib.figure.Figure at 0x7f9f1ac97cc0>"
      ]
     },
     "metadata": {},
     "output_type": "display_data"
    },
    {
     "data": {
      "image/png": "[encoded data removed]",
      "text/plain": [
       "<matplotlib.figure.Figure at 0x7f9f1ad39c18>"
      ]
     },
     "metadata": {},
     "output_type": "display_data"
    },
    {
     "data": {
      "text/plain": [
       "<matplotlib.image.AxesImage at 0x7f9f1aa17a58>"
      ]
     },
     "execution_count": 3,
     "metadata": {},
     "output_type": "execute_result"
    },
    {
     "data": {
      "image/png": "[encoded data removed]",
      "text/plain": [
       "<matplotlib.figure.Figure at 0x7f9f1abf4278>"
      ]
     },
     "metadata": {},
     "output_type": "display_data"
    },
    {
     "data": {
      "image/png": "[encoded data removed]",
      "text/plain": [
       "<matplotlib.figure.Figure at 0x7f9f1aae2550>"
      ]
     },
     "metadata": {},
     "output_type": "display_data"
    },
    {
     "data": {
      "image/png": "[encoded data removed]",
      "text/plain": [
       "<matplotlib.figure.Figure at 0x7f9f1aa3c160>"
      ]
     },
     "metadata": {},
     "output_type": "display_data"
    },
    {
     "data": {
      "image/png": "[encoded data removed]",
      "text/plain": [
       "<matplotlib.figure.Figure at 0x7f9f1aa00320>"
      ]
     },
     "metadata": {},
     "output_type": "display_data"
    },
    {
     "data": {
      "image/png": "[encoded data removed]",
      "text/plain": [
       "<matplotlib.figure.Figure at 0x7f9f1a9d4940>"
      ]
     },
     "metadata": {},
     "output_type": "display_data"
    }
   ],
   "source": [
    "### Data exploration visualization code goes here.\n",
    "### Feel free to use as many code cells as needed.\n",
    "import random\n",
    "import matplotlib.pyplot as plt\n",
    "\n",
    "# Visualizations will be shown in the notebook.\n",
    "%matplotlib inline\n",
    "\n",
    "plt.figure(figsize=(10,6))\n",
    "n, bins, patches = plt.hist(train['labels'], bins=\"auto\", range=None, weights=None, cumulative=False, bottom=None, align='mid', orientation='vertical', facecolor='red', alpha=0.6)\n",
    "plt.xlabel('Signs')\n",
    "plt.ylabel('Frequency')\n",
    "plt.title('Training Data Set')\n",
    "plt.show()\n",
    "\n",
    "plt.figure(figsize=(10,6))\n",
    "n, bins, patches = plt.hist(valid['labels'], bins=\"auto\", range=None, weights=None, cumulative=False, bottom=None, align='mid', orientation='vertical', facecolor='blue', alpha=0.6)\n",
    "plt.xlabel('Signs')\n",
    "plt.ylabel('Frequency')\n",
    "plt.title('Validation Data Set')\n",
    "plt.show()\n",
    "\n",
    "plt.figure(figsize=(10,6))\n",
    "n, bins, patches = plt.hist(test['labels'], bins=\"auto\", range=None, weights=None, cumulative=False, bottom=None, align='mid', orientation='vertical', facecolor='green', alpha=0.6)\n",
    "plt.xlabel('Signs')\n",
    "plt.ylabel('Frequency')\n",
    "plt.title('Test Data Set')\n",
    "plt.show()\n",
    "\n",
    "\n",
    "index = random.randint(0, len(X_train))\n",
    "image = X_train[index].squeeze()\n",
    "\n",
    "plt.figure(figsize=(1,1))\n",
    "plt.xlabel(y_train[index])\n",
    "#print(y_train[index])\n",
    "plt.imshow(image)\n",
    "\n",
    "\n",
    "index = random.randint(0, len(X_train))\n",
    "image = X_train[index].squeeze()\n",
    "\n",
    "plt.figure(figsize=(1,1))\n",
    "plt.xlabel(y_train[index])\n",
    "#print(y_train[index])\n",
    "plt.imshow(image)\n",
    "\n",
    "\n",
    "index = random.randint(0, len(X_train))\n",
    "image = X_train[index].squeeze()\n",
    "\n",
    "plt.figure(figsize=(1,1))\n",
    "plt.xlabel(y_train[index])\n",
    "#print(y_train[index])\n",
    "plt.imshow(image)\n",
    "\n",
    "\n",
    "index = random.randint(0, len(X_train))\n",
    "image = X_train[index].squeeze()\n",
    "\n",
    "plt.figure(figsize=(1,1))\n",
    "plt.xlabel(y_train[index])\n",
    "#print(y_train[index])\n",
    "plt.imshow(image)\n",
    "\n",
    "index = random.randint(0, len(X_train))\n",
    "image = X_train[index].squeeze()\n",
    "\n",
    "plt.figure(figsize=(1,1))\n",
    "plt.xlabel(y_train[index])\n",
    "#print(y_train[index])\n",
    "plt.imshow(image)\n"
   ]
  },
  {
   "cell_type": "markdown",
   "metadata": {},
   "source": [
    "----\n",
    "\n",
    "## Step 2: Design and Test a Model Architecture\n",
    "\n",
    "Design and implement a deep learning model that learns to recognize traffic signs. Train and test your model on the [German Traffic Sign Dataset](http://benchmark.ini.rub.de/?section=gtsrb&subsection=dataset).\n",
    "\n",
    "The LeNet-5 implementation shown in the [classroom](https://classroom.udacity.com/nanodegrees/nd013/parts/fbf77062-5703-404e-b60c-95b78b2f3f9e/modules/6df7ae49-c61c-4bb2-a23e-6527e69209ec/lessons/601ae704-1035-4287-8b11-e2c2716217ad/concepts/d4aca031-508f-4e0b-b493-e7b706120f81) at the end of the CNN lesson is a solid starting point. You'll have to change the number of classes and possibly the preprocessing, but aside from that it's plug and play! \n",
    "\n",
    "With the LeNet-5 solution from the lecture, you should expect a validation set accuracy of about 0.89. To meet specifications, the validation set accuracy will need to be at least 0.93. It is possible to get an even higher accuracy, but 0.93 is the minimum for a successful project submission. \n",
    "\n",
    "There are various aspects to consider when thinking about this problem:\n",
    "\n",
    "- Neural network architecture (is the network over or underfitting?)\n",
    "- Play around preprocessing techniques (normalization, rgb to grayscale, etc)\n",
    "- Number of examples per label (some have more than others).\n",
    "- Generate fake data.\n",
    "\n",
    "Here is an example of a [published baseline model on this problem](http://yann.lecun.com/exdb/publis/pdf/sermanet-ijcnn-11.pdf). It's not required to be familiar with the approach used in the paper but, it's good practice to try to read papers like these."
   ]
  },
  {
   "cell_type": "markdown",
   "metadata": {},
   "source": [
    "### Pre-process the Data Set (normalization, grayscale, etc.)"
   ]
  },
  {
   "cell_type": "markdown",
   "metadata": {},
   "source": [
    "Minimally, the image data should be normalized so that the data has mean zero and equal variance. For image data, `(pixel - 128)/ 128` is a quick way to approximately normalize the data and can be used in this project. \n",
    "\n",
    "Other pre-processing steps are optional. You can try different techniques to see if it improves performance. \n",
    "\n",
    "Use the code cell (or multiple code cells, if necessary) to implement the first step of your project."
   ]
  },
  {
   "cell_type": "code",
   "execution_count": 4,
   "metadata": {
    "scrolled": false
   },
   "outputs": [
    {
     "name": "stdout",
     "output_type": "stream",
     "text": [
      "34799\n",
      "(34799, 32, 32, 1)\n",
      "(4410, 32, 32, 1)\n",
      "(12630, 32, 32, 1)\n"
     ]
    }
   ],
   "source": [
    "### Preprocess the data here. It is required to normalize the data. Other preprocessing steps could include \n",
    "### converting to grayscale, etc.\n",
    "### Feel free to use as many code cells as needed.\n",
    "\n",
    "# Shuffle the training data for each run\n",
    "from sklearn.utils import shuffle\n",
    "import cv2\n",
    "\n",
    "X_train, y_train = shuffle(X_train, y_train)\n",
    "\n",
    "# Convert to numpy array\n",
    "XN_train = np.array(X_train, dtype=np.uint8)\n",
    "XN_valid = np.array(X_valid, dtype=np.uint8)\n",
    "XN_test = np.array(X_test, dtype=np.uint8)\n",
    "\n",
    "\n",
    "# Grayscaling followed by histogram equilization for training set\n",
    "XN_train_norm = np.zeros(XN_train.shape[:-1])\n",
    "for i in range(XN_train.shape[0]):\n",
    "    XN_train_norm[i] = cv2.cvtColor(XN_train[i], cv2.COLOR_BGR2GRAY)\n",
    "    XN_train_norm[i] = cv2.equalizeHist(XN_train_norm[i].astype(np.uint8))\n",
    "    XN_train_norm[i] = XN_train_norm[i] - 128 / 128\n",
    "\n",
    "XN_train_norm = XN_train_norm[:, :, :, None]\n",
    "    \n",
    "XN_valid_norm = np.zeros(XN_valid.shape[:-1])\n",
    "for i in range(XN_valid.shape[0]):\n",
    "    XN_valid_norm[i] = cv2.cvtColor(XN_valid[i], cv2.COLOR_BGR2GRAY)\n",
    "    XN_valid_norm[i] = cv2.equalizeHist(XN_valid_norm[i].astype(np.uint8))\n",
    "    XN_valid_norm[i] = XN_valid_norm[i] - 128 / 128\n",
    "    \n",
    "XN_valid_norm = XN_valid_norm[:, :, :, None]\n",
    "\n",
    "XN_test_norm = np.zeros(XN_test.shape[:-1])\n",
    "for i in range(XN_test.shape[0]):\n",
    "    XN_test_norm[i] = cv2.cvtColor(XN_test[i], cv2.COLOR_BGR2GRAY)\n",
    "    XN_test_norm[i] = cv2.equalizeHist(XN_test_norm[i].astype(np.uint8))\n",
    "    XN_test_norm[i] = XN_test_norm[i] - 128 / 128\n",
    "    \n",
    "XN_test_norm = XN_test_norm[:, :, :, None]\n",
    "\n",
    "#plt.figure(figsize=(1,1))\n",
    "#plt.imshow(XN_train_gray[0], cmap='gray')\n",
    "\n",
    "\n",
    "\n",
    "\n",
    "print (len(XN_train_norm))\n",
    "print (XN_train_norm.shape)\n",
    "print (XN_valid_norm.shape)\n",
    "print (XN_test_norm.shape)\n"
   ]
  },
  {
   "cell_type": "markdown",
   "metadata": {},
   "source": [
    "### Model Architecture"
   ]
  },
  {
   "cell_type": "code",
   "execution_count": 5,
   "metadata": {},
   "outputs": [],
   "source": [
    "import tensorflow as tf\n",
    "\n",
    "\n",
    "# Setup variables for EPOCH and BATCH_SIZE\n",
    "EPOCHS = 100\n",
    "BATCH_SIZE = 16"
   ]
  },
  {
   "cell_type": "code",
   "execution_count": 6,
   "metadata": {},
   "outputs": [],
   "source": [
    "### Architecture is defined here.\n",
    "\n",
    "from tensorflow.contrib.layers import flatten\n",
    "\n",
    "def TrafficNet(x):    \n",
    "    # Arguments used for tf.truncated_normal, randomly defines variables for the weights and biases for each layer\n",
    "    mu = 0\n",
    "    sigma = 0.1\n",
    "    \n",
    "    # Layer 1: Convolutional. Input = 32x32x3. Output = 28x28x6.\n",
    "    conv1_W = tf.Variable(tf.truncated_normal(shape=(5, 5, 1, 6), mean = mu, stddev = sigma))\n",
    "    conv1_b = tf.Variable(tf.zeros(6))\n",
    "    conv1   = tf.nn.conv2d(x, conv1_W, strides=[1, 1, 1, 1], padding='VALID') + conv1_b\n",
    "\n",
    "    # Activation.\n",
    "    conv1 = tf.nn.relu(conv1)\n",
    "\n",
    "    # Pooling. Input = 28x28x6. Output = 14x14x6.\n",
    "    conv1 = tf.nn.max_pool(conv1, ksize=[1, 2, 2, 1], strides=[1, 2, 2, 1], padding='VALID')\n",
    "\n",
    "    # Layer 2: Convolutional. Output = 10x10x16.\n",
    "    conv2_W = tf.Variable(tf.truncated_normal(shape=(5, 5, 6, 16), mean = mu, stddev = sigma))\n",
    "    conv2_b = tf.Variable(tf.zeros(16))\n",
    "    conv2   = tf.nn.conv2d(conv1, conv2_W, strides=[1, 1, 1, 1], padding='VALID') + conv2_b\n",
    "    \n",
    "    # Activation.\n",
    "    conv2 = tf.nn.relu(conv2)\n",
    "\n",
    "    # Pooling. Input = 10x10x16. Output = 5x5x16.\n",
    "    conv2 = tf.nn.max_pool(conv2, ksize=[1, 2, 2, 1], strides=[1, 2, 2, 1], padding='VALID')\n",
    "\n",
    "    # Flatten. Input = 5x5x16. Output = 400.\n",
    "    fc0   = flatten(conv2)\n",
    "    \n",
    "    # Layer 3: Fully Connected. Input = 400. Output = 120.\n",
    "    fc1_W = tf.Variable(tf.truncated_normal(shape=(400, 120), mean = mu, stddev = sigma))\n",
    "    fc1_b = tf.Variable(tf.zeros(120))\n",
    "    fc1   = tf.matmul(fc0, fc1_W) + fc1_b\n",
    "    \n",
    "    # Activation.\n",
    "    fc1    = tf.nn.relu(fc1)\n",
    "\n",
    "    # Layer 4: Fully Connected. Input = 120. Output = 84.\n",
    "    fc2_W  = tf.Variable(tf.truncated_normal(shape=(120, 84), mean = mu, stddev = sigma))\n",
    "    fc2_b  = tf.Variable(tf.zeros(84))\n",
    "    fc2    = tf.matmul(fc1, fc2_W) + fc2_b\n",
    "    \n",
    "    # Activation.\n",
    "    fc2    = tf.nn.relu(fc2)\n",
    "    \n",
    "    # Applying dropouts\n",
    "    fc2 = tf.nn.dropout(fc2, keep_prob = 1.0)\n",
    "    \n",
    "    # Layer 5: Fully Connected. Input = 84. Output = 43.\n",
    "    fc3_W  = tf.Variable(tf.truncated_normal(shape=(84, 43), mean = mu, stddev = sigma))\n",
    "    fc3_b  = tf.Variable(tf.zeros(43))\n",
    "    logits = tf.matmul(fc2, fc3_W) + fc3_b\n",
    "    \n",
    "    return logits\n"
   ]
  },
  {
   "cell_type": "markdown",
   "metadata": {},
   "source": [
    "### Train, Validate and Test the Model"
   ]
  },
  {
   "cell_type": "markdown",
   "metadata": {},
   "source": [
    "A validation set can be used to assess how well the model is performing. A low accuracy on the training and validation\n",
    "sets imply underfitting. A high accuracy on the training set but low accuracy on the validation set implies overfitting."
   ]
  },
  {
   "cell_type": "code",
   "execution_count": 7,
   "metadata": {},
   "outputs": [],
   "source": [
    "# Setting up placeholder for x, y and one_hot_y\n",
    "\n",
    "x = tf.placeholder(tf.float32, (None, 32, 32, 1))\n",
    "y = tf.placeholder(tf.int32, (None))\n",
    "one_hot_y = tf.one_hot(y, 43)\n",
    "\n",
    "\n",
    "\n",
    "    "
   ]
  },
  {
   "cell_type": "code",
   "execution_count": 8,
   "metadata": {},
   "outputs": [],
   "source": [
    "# Setup learning rate\n",
    "\n",
    "rate = 0.00060\n",
    "#rate = 0.00070\n",
    "#rate = 0.00080 \n",
    "#rate = 0.00088\n",
    "\n",
    "# Setting up TrafficNet Optimizer\n",
    "\n",
    "logits = TrafficNet(x)\n",
    "cross_entropy = tf.nn.softmax_cross_entropy_with_logits(labels=one_hot_y, logits=logits)\n",
    "loss_operation = tf.reduce_mean(cross_entropy)\n",
    "optimizer = tf.train.AdamOptimizer(learning_rate = rate)\n",
    "training_operation = optimizer.minimize(loss_operation)\n",
    "correct_prediction = tf.equal(tf.argmax(logits, 1), tf.argmax(one_hot_y, 1))\n",
    "accuracy_operation = tf.reduce_mean(tf.cast(correct_prediction, tf.float32))\n",
    "saver = tf.train.Saver()\n",
    "\n"
   ]
  },
  {
   "cell_type": "code",
   "execution_count": 9,
   "metadata": {},
   "outputs": [],
   "source": [
    "# Evaluate function which will evaluate the accuracy of the prediction for dataset\n",
    "\n",
    "def evaluate(X_data, y_data):\n",
    "    num_examples = len(X_data)\n",
    "    total_accuracy = 0\n",
    "    sess = tf.get_default_session()\n",
    "    for offset in range(0, num_examples, BATCH_SIZE):\n",
    "        batch_x, batch_y = X_data[offset:offset+BATCH_SIZE], y_data[offset:offset+BATCH_SIZE]\n",
    "        accuracy = sess.run(accuracy_operation, feed_dict={x: batch_x, y: batch_y})\n",
    "        total_accuracy += (accuracy * len(batch_x))\n",
    "    return total_accuracy / num_examples\n",
    "\n",
    "\n"
   ]
  },
  {
   "cell_type": "code",
   "execution_count": 10,
   "metadata": {},
   "outputs": [
    {
     "name": "stdout",
     "output_type": "stream",
     "text": [
      "Training...\n",
      "\n",
      "EPOCH 1 ...\n",
      "Validation Accuracy = 0.741\n",
      "\n",
      "EPOCH 2 ...\n",
      "Validation Accuracy = 0.828\n",
      "\n",
      "EPOCH 3 ...\n",
      "Validation Accuracy = 0.877\n",
      "\n",
      "EPOCH 4 ...\n",
      "Validation Accuracy = 0.876\n",
      "\n",
      "EPOCH 5 ...\n",
      "Validation Accuracy = 0.893\n",
      "\n",
      "EPOCH 6 ...\n",
      "Validation Accuracy = 0.912\n",
      "\n",
      "EPOCH 7 ...\n",
      "Validation Accuracy = 0.907\n",
      "\n",
      "EPOCH 8 ...\n",
      "Validation Accuracy = 0.885\n",
      "\n",
      "EPOCH 9 ...\n",
      "Validation Accuracy = 0.907\n",
      "\n",
      "EPOCH 10 ...\n",
      "Validation Accuracy = 0.906\n",
      "\n",
      "EPOCH 11 ...\n",
      "Validation Accuracy = 0.915\n",
      "\n",
      "EPOCH 12 ...\n",
      "Validation Accuracy = 0.912\n",
      "\n",
      "EPOCH 13 ...\n",
      "Validation Accuracy = 0.897\n",
      "\n",
      "EPOCH 14 ...\n",
      "Validation Accuracy = 0.913\n",
      "\n",
      "EPOCH 15 ...\n",
      "Validation Accuracy = 0.921\n",
      "\n",
      "EPOCH 16 ...\n",
      "Validation Accuracy = 0.918\n",
      "\n",
      "EPOCH 17 ...\n",
      "Validation Accuracy = 0.911\n",
      "\n",
      "EPOCH 18 ...\n",
      "Validation Accuracy = 0.907\n",
      "\n",
      "EPOCH 19 ...\n",
      "Validation Accuracy = 0.905\n",
      "\n",
      "EPOCH 20 ...\n",
      "Validation Accuracy = 0.898\n",
      "\n",
      "EPOCH 21 ...\n",
      "Validation Accuracy = 0.899\n",
      "\n",
      "EPOCH 22 ...\n",
      "Validation Accuracy = 0.908\n",
      "\n",
      "EPOCH 23 ...\n",
      "Validation Accuracy = 0.921\n",
      "\n",
      "EPOCH 24 ...\n",
      "Validation Accuracy = 0.921\n",
      "\n",
      "EPOCH 25 ...\n",
      "Validation Accuracy = 0.902\n",
      "\n",
      "EPOCH 26 ...\n",
      "Validation Accuracy = 0.914\n",
      "\n",
      "EPOCH 27 ...\n",
      "Validation Accuracy = 0.912\n",
      "\n",
      "EPOCH 28 ...\n",
      "Validation Accuracy = 0.929\n",
      "\n",
      "EPOCH 29 ...\n",
      "Validation Accuracy = 0.917\n",
      "\n",
      "EPOCH 30 ...\n",
      "Validation Accuracy = 0.904\n",
      "\n",
      "EPOCH 31 ...\n",
      "Validation Accuracy = 0.925\n",
      "\n",
      "EPOCH 32 ...\n",
      "Validation Accuracy = 0.908\n",
      "\n",
      "EPOCH 33 ...\n",
      "Validation Accuracy = 0.927\n",
      "\n",
      "EPOCH 34 ...\n",
      "Validation Accuracy = 0.899\n",
      "\n",
      "EPOCH 35 ...\n",
      "Validation Accuracy = 0.918\n",
      "\n",
      "EPOCH 36 ...\n",
      "Validation Accuracy = 0.907\n",
      "\n",
      "EPOCH 37 ...\n",
      "Validation Accuracy = 0.912\n",
      "\n",
      "EPOCH 38 ...\n",
      "Validation Accuracy = 0.915\n",
      "\n",
      "EPOCH 39 ...\n",
      "Validation Accuracy = 0.923\n",
      "\n",
      "EPOCH 40 ...\n",
      "Validation Accuracy = 0.936\n",
      "\n",
      "Model saved\n"
     ]
    }
   ],
   "source": [
    "# Train the model in train data set and sabe the session in a file\n",
    "\n",
    "with tf.Session() as sess:\n",
    "    sess.run(tf.global_variables_initializer())\n",
    "    num_examples = len(XN_train_norm)\n",
    "    \n",
    "    print(\"Training...\")\n",
    "    print()\n",
    "    for i in range(EPOCHS):\n",
    "        XN_train_norm, y_train = shuffle(XN_train_norm, y_train)\n",
    "        for offset in range(0, num_examples, BATCH_SIZE):\n",
    "            end = offset + BATCH_SIZE\n",
    "            batch_x, batch_y = XN_train_norm[offset:end], y_train[offset:end]\n",
    "            sess.run(training_operation, feed_dict={x: batch_x, y: batch_y})\n",
    "            \n",
    "        validation_accuracy = evaluate(XN_valid_norm, y_valid)\n",
    "        print(\"EPOCH {} ...\".format(i+1))\n",
    "        print(\"Validation Accuracy = {:.3f}\".format(validation_accuracy))\n",
    "        print()\n",
    "        if validation_accuracy >= 0.930:\n",
    "            break   \n",
    "    saver.save(sess, './trafficnet')\n",
    "    print(\"Model saved\")\n",
    "    "
   ]
  },
  {
   "cell_type": "code",
   "execution_count": 14,
   "metadata": {},
   "outputs": [],
   "source": [
    "# Evaluate function which will evaluate the accuracy of the prediction for dataset\n",
    "\n",
    "def evaluateLearningCurve(X_data, y_data):\n",
    "    num_examples = len(X_data)\n",
    "    loss_list = []\n",
    "    sess = tf.get_default_session()\n",
    "    for offset in range(0, num_examples, BATCH_SIZE):\n",
    "        batch_x, batch_y = X_data[offset:offset+BATCH_SIZE], y_data[offset:offset+BATCH_SIZE]\n",
    "        _, loss = sess.run((training_operation, loss_operation), feed_dict={x: batch_x, y: batch_y})\n",
    "        loss_list.append(loss)\n",
    "    return loss_list"
   ]
  },
  {
   "cell_type": "code",
   "execution_count": 16,
   "metadata": {},
   "outputs": [
    {
     "name": "stdout",
     "output_type": "stream",
     "text": [
      "INFO:tensorflow:Restoring parameters from ./trafficnet\n"
     ]
    },
    {
     "data": {
      "image/png": "[encoded data removed]",
      "text/plain": [
       "<matplotlib.figure.Figure at 0x7f9eee5a6240>"
      ]
     },
     "metadata": {},
     "output_type": "display_data"
    }
   ],
   "source": [
    "with tf.Session() as sess:\n",
    "    saver.restore(sess, tf.train.latest_checkpoint('.'))\n",
    "    \n",
    "    train_loss_list = evaluateLearningCurve(XN_train_norm, y_train)\n",
    "    plt.plot(train_loss_list)"
   ]
  },
  {
   "cell_type": "code",
   "execution_count": 18,
   "metadata": {},
   "outputs": [
    {
     "name": "stdout",
     "output_type": "stream",
     "text": [
      "INFO:tensorflow:Restoring parameters from ./trafficnet\n",
      "Test Accuracy = 0.936\n"
     ]
    },
    {
     "data": {
      "image/png": "[encoded data removed]",
      "text/plain": [
       "<matplotlib.figure.Figure at 0x7f9f1aa9bb00>"
      ]
     },
     "metadata": {},
     "output_type": "display_data"
    }
   ],
   "source": [
    "with tf.Session() as sess:\n",
    "    saver.restore(sess, tf.train.latest_checkpoint('.'))\n",
    "\n",
    "    test_accuracy = evaluate(XN_valid_norm, y_valid)\n",
    "    print(\"Test Accuracy = {:.3f}\".format(test_accuracy))\n",
    "    \n",
    "    valid_loss_list = evaluateLearningCurve(XN_valid_norm, y_valid)\n",
    "    plt.plot(valid_loss_list)"
   ]
  },
  {
   "cell_type": "code",
   "execution_count": 20,
   "metadata": {},
   "outputs": [
    {
     "name": "stdout",
     "output_type": "stream",
     "text": [
      "INFO:tensorflow:Restoring parameters from ./trafficnet\n",
      "Test Accuracy = 0.905\n"
     ]
    },
    {
     "data": {
      "image/png": "[encoded data removed]",
      "text/plain": [
       "<matplotlib.figure.Figure at 0x7f9eff268048>"
      ]
     },
     "metadata": {},
     "output_type": "display_data"
    }
   ],
   "source": [
    "with tf.Session() as sess:\n",
    "    saver.restore(sess, tf.train.latest_checkpoint('.'))\n",
    "\n",
    "    test_accuracy = evaluate(XN_test_norm, y_test)\n",
    "    print(\"Test Accuracy = {:.3f}\".format(test_accuracy))\n",
    "    \n",
    "    test_loss_list = evaluateLearningCurve(XN_test_norm, y_test)\n",
    "    plt.plot(valid_loss_list)"
   ]
  },
  {
   "cell_type": "markdown",
   "metadata": {},
   "source": [
    "---\n",
    "\n",
    "## Step 3: Test a Model on New Images\n",
    "\n",
    "To give yourself more insight into how your model is working, download at least five pictures of German traffic signs from the web and use your model to predict the traffic sign type.\n",
    "\n",
    "You may find `signnames.csv` useful as it contains mappings from the class id (integer) to the actual sign name."
   ]
  },
  {
   "cell_type": "markdown",
   "metadata": {},
   "source": [
    "### Load and Output the Images"
   ]
  },
  {
   "cell_type": "code",
   "execution_count": 22,
   "metadata": {},
   "outputs": [
    {
     "data": {
      "text/plain": [
       "(-0.5, 31.5, 31.5, -0.5)"
      ]
     },
     "execution_count": 22,
     "metadata": {},
     "output_type": "execute_result"
    },
    {
     "data": {
      "image/png": "[encoded data removed]",
      "text/plain": [
       "<matplotlib.figure.Figure at 0x7f9eeec13fd0>"
      ]
     },
     "metadata": {},
     "output_type": "display_data"
    }
   ],
   "source": [
    "### Load the images and plot them here.\n",
    "### Feel free to use as many code cells as needed.\n",
    "\n",
    "### Load the images and plot them here.\n",
    "### Feel free to use as many code cells as needed.\n",
    "\n",
    "import matplotlib.image as mpimg\n",
    "\n",
    "\n",
    "img1_00001 = mpimg.imread('GTSRB/Online-Test/Images/00001.ppm')\n",
    "\n",
    "img2_00001 = cv2.cvtColor(img1_00001, cv2.COLOR_BGR2GRAY)\n",
    "img2_00001 = cv2.equalizeHist(img2_00001.astype(np.uint8))\n",
    "img3_00001 = img2_00001 - 128 / 128\n",
    "\n",
    "n_images = [img1_00001, img2_00001, img2_00001, img3_00001]\n",
    "n_labels = [\"Original\",\"Histogram Normalized\", \"Histogram Grey\", \"Pixel+Histogram Grey\"]\n",
    "\n",
    "fig, axes = plt.subplots(nrows=2, ncols=2, figsize=(2*2,2*2))\n",
    "\n",
    "axes = axes.ravel()\n",
    "fig.tight_layout()\n",
    "\n",
    "axes[0].imshow(n_images[0])\n",
    "axes[0].set_title(n_labels[0])\n",
    "axes[0].axis('off')\n",
    "\n",
    "axes[1].imshow(n_images[1])\n",
    "axes[1].set_title(n_labels[1])\n",
    "axes[1].axis('off')\n",
    "\n",
    "axes[2].imshow(n_images[2], cmap='gray')\n",
    "axes[2].set_title(n_labels[2])\n",
    "axes[2].axis('off')\n",
    "\n",
    "axes[3].imshow(n_images[3], cmap='gray')\n",
    "axes[3].set_title(n_labels[3])\n",
    "axes[3].axis('off')\n"
   ]
  },
  {
   "cell_type": "code",
   "execution_count": 23,
   "metadata": {},
   "outputs": [
    {
     "data": {
      "text/plain": [
       "(-0.5, 31.5, 31.5, -0.5)"
      ]
     },
     "execution_count": 23,
     "metadata": {},
     "output_type": "execute_result"
    },
    {
     "data": {
      "image/png": "[encoded data removed]",
      "text/plain": [
       "<matplotlib.figure.Figure at 0x7f9eeeaeec18>"
      ]
     },
     "metadata": {},
     "output_type": "display_data"
    }
   ],
   "source": [
    "### Load the images and plot them here.\n",
    "### Feel free to use as many code cells as needed.\n",
    "\n",
    "import matplotlib.image as mpimg\n",
    "\n",
    "img1_00013 = mpimg.imread('GTSRB/Online-Test/Images/00013.ppm')\n",
    "\n",
    "img2_00013 = cv2.cvtColor(img1_00013, cv2.COLOR_BGR2GRAY)\n",
    "img2_00013 = cv2.equalizeHist(img2_00013.astype(np.uint8))\n",
    "img3_00013 = img2_00013 - 128 / 128\n",
    "\n",
    "n_images = [img1_00013, img2_00013, img2_00013, img3_00013]\n",
    "n_labels = [\"Original\",\"Histogram Normalized\", \"Histogram Grey\", \"Pixel+Histogram Grey\"]\n",
    "\n",
    "fig, axes = plt.subplots(nrows=2, ncols=2, figsize=(2*2,2*2))\n",
    "\n",
    "axes = axes.ravel()\n",
    "fig.tight_layout()\n",
    "\n",
    "axes[0].imshow(n_images[0])\n",
    "axes[0].set_title(n_labels[0])\n",
    "axes[0].axis('off')\n",
    "\n",
    "axes[1].imshow(n_images[1])\n",
    "axes[1].set_title(n_labels[1])\n",
    "axes[1].axis('off')\n",
    "\n",
    "axes[2].imshow(n_images[2], cmap='gray')\n",
    "axes[2].set_title(n_labels[2])\n",
    "axes[2].axis('off')\n",
    "\n",
    "axes[3].imshow(n_images[3], cmap='gray')\n",
    "axes[3].set_title(n_labels[3])\n",
    "axes[3].axis('off')"
   ]
  },
  {
   "cell_type": "code",
   "execution_count": 28,
   "metadata": {},
   "outputs": [
    {
     "data": {
      "text/plain": [
       "(-0.5, 31.5, 31.5, -0.5)"
      ]
     },
     "execution_count": 28,
     "metadata": {},
     "output_type": "execute_result"
    },
    {
     "data": {
      "image/png": "[encoded data removed]",
      "text/plain": [
       "<matplotlib.figure.Figure at 0x7f9eeea5ec18>"
      ]
     },
     "metadata": {},
     "output_type": "display_data"
    }
   ],
   "source": [
    "### Load the images and plot them here.\n",
    "### Feel free to use as many code cells as needed.\n",
    "\n",
    "import matplotlib.image as mpimg\n",
    "\n",
    "\n",
    "img1_00115 = mpimg.imread('GTSRB/Online-Test/Images/00115.ppm')\n",
    "\n",
    "img2_00115 = cv2.cvtColor(img1_00115, cv2.COLOR_BGR2GRAY)\n",
    "img2_00115 = cv2.equalizeHist(img2_00115.astype(np.uint8))\n",
    "img3_00115 = img2_00115 - 128 / 128\n",
    "\n",
    "n_images = [img1_00115, img2_00115, img2_00115, img3_00115]\n",
    "n_labels = [\"Original\",\"Histogram Normalized\", \"Histogram Grey\", \"Pixel+Histogram Grey\"]\n",
    "\n",
    "fig, axes = plt.subplots(nrows=2, ncols=2, figsize=(2*2,2*2))\n",
    "\n",
    "axes = axes.ravel()\n",
    "fig.tight_layout()\n",
    "\n",
    "axes[0].imshow(n_images[0])\n",
    "axes[0].set_title(n_labels[0])\n",
    "axes[0].axis('off')\n",
    "\n",
    "axes[1].imshow(n_images[1])\n",
    "axes[1].set_title(n_labels[1])\n",
    "axes[1].axis('off')\n",
    "\n",
    "axes[2].imshow(n_images[2], cmap='gray')\n",
    "axes[2].set_title(n_labels[2])\n",
    "axes[2].axis('off')\n",
    "\n",
    "axes[3].imshow(n_images[3], cmap='gray')\n",
    "axes[3].set_title(n_labels[3])\n",
    "axes[3].axis('off')"
   ]
  },
  {
   "cell_type": "code",
   "execution_count": 24,
   "metadata": {},
   "outputs": [
    {
     "data": {
      "text/plain": [
       "(-0.5, 31.5, 31.5, -0.5)"
      ]
     },
     "execution_count": 24,
     "metadata": {},
     "output_type": "execute_result"
    },
    {
     "data": {
      "image/png": "[encoded data removed]",
      "text/plain": [
       "<matplotlib.figure.Figure at 0x7f9eee9b3d30>"
      ]
     },
     "metadata": {},
     "output_type": "display_data"
    }
   ],
   "source": [
    "### Load the images and plot them here.\n",
    "### Feel free to use as many code cells as needed.\n",
    "\n",
    "import matplotlib.image as mpimg\n",
    "\n",
    "\n",
    "img1_00319 = mpimg.imread('GTSRB/Online-Test/Images/00319.ppm')\n",
    "\n",
    "img2_00319 = cv2.cvtColor(img1_00319, cv2.COLOR_BGR2GRAY)\n",
    "img2_00319 = cv2.equalizeHist(img2_00319.astype(np.uint8))\n",
    "img3_00319 = img2_00319 - 128 / 128\n",
    "\n",
    "n_images = [img1_00319, img2_00319, img2_00319, img3_00319]\n",
    "n_labels = [\"Original\",\"Histogram Normalized\", \"Histogram Grey\", \"Pixel+Histogram Grey\"]\n",
    "\n",
    "fig, axes = plt.subplots(nrows=2, ncols=2, figsize=(2*2,2*2))\n",
    "\n",
    "axes = axes.ravel()\n",
    "fig.tight_layout()\n",
    "\n",
    "axes[0].imshow(n_images[0])\n",
    "axes[0].set_title(n_labels[0])\n",
    "axes[0].axis('off')\n",
    "\n",
    "axes[1].imshow(n_images[1])\n",
    "axes[1].set_title(n_labels[1])\n",
    "axes[1].axis('off')\n",
    "\n",
    "axes[2].imshow(n_images[2], cmap='gray')\n",
    "axes[2].set_title(n_labels[2])\n",
    "axes[2].axis('off')\n",
    "\n",
    "axes[3].imshow(n_images[3], cmap='gray')\n",
    "axes[3].set_title(n_labels[3])\n",
    "axes[3].axis('off')"
   ]
  },
  {
   "cell_type": "code",
   "execution_count": 26,
   "metadata": {},
   "outputs": [
    {
     "data": {
      "text/plain": [
       "(-0.5, 31.5, 31.5, -0.5)"
      ]
     },
     "execution_count": 26,
     "metadata": {},
     "output_type": "execute_result"
    },
    {
     "data": {
      "image/png": "[encoded data removed]",
      "text/plain": [
       "<matplotlib.figure.Figure at 0x7f9eee5a2e48>"
      ]
     },
     "metadata": {},
     "output_type": "display_data"
    }
   ],
   "source": [
    "### Load the images and plot them here.\n",
    "### Feel free to use as many code cells as needed.\n",
    "\n",
    "import matplotlib.image as mpimg\n",
    "\n",
    "\n",
    "img1_00598 = mpimg.imread('GTSRB/Online-Test/Images/00598.ppm')\n",
    "\n",
    "img2_00598 = cv2.cvtColor(img1_00598, cv2.COLOR_BGR2GRAY)\n",
    "img2_00598 = cv2.equalizeHist(img2_00598.astype(np.uint8))\n",
    "img3_00598 = img2_00598 - 128 / 128\n",
    "\n",
    "n_images = [img1_00598, img2_00598, img2_00598, img3_00598]\n",
    "n_labels = [\"Original\",\"Histogram Normalized\", \"Histogram Grey\", \"Pixel+Histogram Grey\"]\n",
    "\n",
    "fig, axes = plt.subplots(nrows=2, ncols=2, figsize=(2*2,2*2))\n",
    "\n",
    "axes = axes.ravel()\n",
    "fig.tight_layout()\n",
    "\n",
    "axes[0].imshow(n_images[0])\n",
    "axes[0].set_title(n_labels[0])\n",
    "axes[0].axis('off')\n",
    "\n",
    "axes[1].imshow(n_images[1])\n",
    "axes[1].set_title(n_labels[1])\n",
    "axes[1].axis('off')\n",
    "\n",
    "axes[2].imshow(n_images[2], cmap='gray')\n",
    "axes[2].set_title(n_labels[2])\n",
    "axes[2].axis('off')\n",
    "\n",
    "axes[3].imshow(n_images[3], cmap='gray')\n",
    "axes[3].set_title(n_labels[3])\n",
    "axes[3].axis('off')"
   ]
  },
  {
   "cell_type": "markdown",
   "metadata": {},
   "source": [
    "### Predict the Sign Type for Each Image"
   ]
  },
  {
   "cell_type": "code",
   "execution_count": 29,
   "metadata": {},
   "outputs": [],
   "source": [
    "### Run the predictions here and use the model to output the prediction for each image.\n",
    "### Make sure to pre-process the images with the same pre-processing pipeline used earlier.\n",
    "### Feel free to use as many code cells as needed.\n",
    "\n",
    "# Pre-process the image array\n",
    "# Convert to numpy array\n",
    "\n",
    "GXN_test = np.array([img3_00001,img3_00013,img3_00115,img3_00319,img3_00598], dtype=np.uint8)\n",
    "\n",
    "yn_test = np.array([3,31,8,7,1])\n",
    "\n",
    "GXN_test = np.array(GXN_test, dtype=np.uint8)\n",
    "\n",
    "GXN_test = GXN_test[:, :, :, None]\n"
   ]
  },
  {
   "cell_type": "markdown",
   "metadata": {},
   "source": [
    "### Analyze Performance"
   ]
  },
  {
   "cell_type": "code",
   "execution_count": 30,
   "metadata": {},
   "outputs": [
    {
     "name": "stdout",
     "output_type": "stream",
     "text": [
      "INFO:tensorflow:Restoring parameters from ./trafficnet\n",
      "Test Accuracy = 1.000\n"
     ]
    }
   ],
   "source": [
    "### Calculate the accuracy for these 5 new images. \n",
    "### For example, if the model predicted 1 out of 5 signs correctly, it's 20% accurate on these new images.\n",
    "with tf.Session() as sess:\n",
    "    saver.restore(sess, tf.train.latest_checkpoint('.'))\n",
    "\n",
    "    test_accuracy = evaluate(GXN_test, yn_test)\n",
    "    print(\"Test Accuracy = {:.3f}\".format(test_accuracy))"
   ]
  },
  {
   "cell_type": "markdown",
   "metadata": {},
   "source": [
    "### Output Top 5 Softmax Probabilities For Each Image Found on the Web"
   ]
  },
  {
   "cell_type": "markdown",
   "metadata": {},
   "source": [
    "For each of the new images, print out the model's softmax probabilities to show the **certainty** of the model's predictions (limit the output to the top 5 probabilities for each image). [`tf.nn.top_k`](https://www.tensorflow.org/versions/r0.12/api_docs/python/nn.html#top_k) could prove helpful here. \n",
    "\n",
    "The example below demonstrates how tf.nn.top_k can be used to find the top k predictions for each image.\n",
    "\n",
    "`tf.nn.top_k` will return the values and indices (class ids) of the top k predictions. So if k=3, for each sign, it'll return the 3 largest probabilities (out of a possible 43) and the correspoding class ids.\n",
    "\n",
    "Take this numpy array as an example. The values in the array represent predictions. The array contains softmax probabilities for five candidate images with six possible classes. `tf.nn.top_k` is used to choose the three classes with the highest probability:\n",
    "\n",
    "```\n",
    "# (5, 6) array\n",
    "a = np.array([[ 0.24879643,  0.07032244,  0.12641572,  0.34763842,  0.07893497,\n",
    "         0.12789202],\n",
    "       [ 0.28086119,  0.27569815,  0.08594638,  0.0178669 ,  0.18063401,\n",
    "         0.15899337],\n",
    "       [ 0.26076848,  0.23664738,  0.08020603,  0.07001922,  0.1134371 ,\n",
    "         0.23892179],\n",
    "       [ 0.11943333,  0.29198961,  0.02605103,  0.26234032,  0.1351348 ,\n",
    "         0.16505091],\n",
    "       [ 0.09561176,  0.34396535,  0.0643941 ,  0.16240774,  0.24206137,\n",
    "         0.09155967]])\n",
    "```\n",
    "\n",
    "Running it through `sess.run(tf.nn.top_k(tf.constant(a), k=3))` produces:\n",
    "\n",
    "```\n",
    "TopKV2(values=array([[ 0.34763842,  0.24879643,  0.12789202],\n",
    "       [ 0.28086119,  0.27569815,  0.18063401],\n",
    "       [ 0.26076848,  0.23892179,  0.23664738],\n",
    "       [ 0.29198961,  0.26234032,  0.16505091],\n",
    "       [ 0.34396535,  0.24206137,  0.16240774]]), indices=array([[3, 0, 5],\n",
    "       [0, 1, 4],\n",
    "       [0, 5, 1],\n",
    "       [1, 3, 5],\n",
    "       [1, 4, 3]], dtype=int32))\n",
    "```\n",
    "\n",
    "Looking just at the first row we get `[ 0.34763842,  0.24879643,  0.12789202]`, you can confirm these are the 3 largest probabilities in `a`. You'll also notice `[3, 0, 5]` are the corresponding indices."
   ]
  },
  {
   "cell_type": "code",
   "execution_count": 31,
   "metadata": {},
   "outputs": [
    {
     "name": "stdout",
     "output_type": "stream",
     "text": [
      "INFO:tensorflow:Restoring parameters from ./trafficnet\n",
      "TopKV2(values=array([[  1.00000000e+00,   2.32628268e-17,   2.36262311e-21,\n",
      "          1.26511731e-22,   1.74394900e-23],\n",
      "       [  1.00000000e+00,   1.98907540e-11,   6.79139582e-16,\n",
      "          2.57423477e-16,   3.04496698e-17],\n",
      "       [  1.00000000e+00,   7.42253684e-14,   4.36191447e-24,\n",
      "          6.63499814e-27,   1.04985321e-27],\n",
      "       [  9.99829054e-01,   1.70878790e-04,   5.09370039e-08,\n",
      "          1.28797755e-08,   6.90450852e-09],\n",
      "       [  1.00000000e+00,   1.52510602e-26,   4.73973719e-28,\n",
      "          1.60767514e-29,   6.90052212e-33]], dtype=float32), indices=array([[ 3,  5,  1,  9,  2],\n",
      "       [31, 25, 29,  2, 39],\n",
      "       [ 8,  7,  4,  3, 15],\n",
      "       [ 7,  8,  4,  5,  1],\n",
      "       [ 1,  5,  4,  0,  2]], dtype=int32))\n"
     ]
    }
   ],
   "source": [
    "### Print out the top five softmax probabilities for the predictions on the German traffic sign images found on the web. \n",
    "### Feel free to use as many code cells as needed.\n",
    "\n",
    "#sess.run(accuracy_operation, feed_dict={x: batch_x, y: batch_y})\n",
    "#correct_prediction = tf.equal(tf.argmax(logits, 1), tf.argmax(one_hot_y, 1))\n",
    "#accuracy_operation = tf.reduce_mean(tf.cast(correct_prediction, tf.float32))\n",
    "#saver = tf.train.Saver()\n",
    "\n",
    "with tf.Session() as sess:\n",
    "    saver.restore(sess, tf.train.latest_checkpoint('.'))\n",
    "    predictions = sess.run(tf.nn.softmax(logits), feed_dict={x: GXN_test, y: yn_test})\n",
    "    top_five = sess.run(tf.nn.top_k(tf.constant(predictions), k=5))\n",
    "    \n",
    "print (top_five)"
   ]
  },
  {
   "cell_type": "markdown",
   "metadata": {},
   "source": [
    "### Project Writeup\n",
    "\n",
    "Once you have completed the code implementation, document your results in a project writeup using this [template](https://github.com/udacity/CarND-Traffic-Sign-Classifier-Project/blob/master/writeup_template.md) as a guide. The writeup can be in a markdown or pdf file. "
   ]
  },
  {
   "cell_type": "markdown",
   "metadata": {},
   "source": [
    "> **Note**: Once you have completed all of the code implementations and successfully answered each question above, you may finalize your work by exporting the iPython Notebook as an HTML document. You can do this by using the menu above and navigating to  \\n\",\n",
    "    \"**File -> Download as -> HTML (.html)**. Include the finished document along with this notebook as your submission."
   ]
  },
  {
   "cell_type": "markdown",
   "metadata": {},
   "source": [
    "# ---\n",
    "\n",
    "## Step 4 (Optional): Visualize the Neural Network's State with Test Images\n",
    "\n",
    " This Section is not required to complete but acts as an additional excersise for understaning the output of a neural network's weights. While neural networks can be a great learning device they are often referred to as a black box. We can understand what the weights of a neural network look like better by plotting their feature maps. After successfully training your neural network you can see what it's feature maps look like by plotting the output of the network's weight layers in response to a test stimuli image. From these plotted feature maps, it's possible to see what characteristics of an image the network finds interesting. For a sign, maybe the inner network feature maps react with high activation to the sign's boundary outline or to the contrast in the sign's painted symbol.\n",
    "\n",
    " Provided for you below is the function code that allows you to get the visualization output of any tensorflow weight layer you want. The inputs to the function should be a stimuli image, one used during training or a new one you provided, and then the tensorflow variable name that represents the layer's state during the training process, for instance if you wanted to see what the [LeNet lab's](https://classroom.udacity.com/nanodegrees/nd013/parts/fbf77062-5703-404e-b60c-95b78b2f3f9e/modules/6df7ae49-c61c-4bb2-a23e-6527e69209ec/lessons/601ae704-1035-4287-8b11-e2c2716217ad/concepts/d4aca031-508f-4e0b-b493-e7b706120f81) feature maps looked like for it's second convolutional layer you could enter conv2 as the tf_activation variable.\n",
    "\n",
    "For an example of what feature map outputs look like, check out NVIDIA's results in their paper [End-to-End Deep Learning for Self-Driving Cars](https://devblogs.nvidia.com/parallelforall/deep-learning-self-driving-cars/) in the section Visualization of internal CNN State. NVIDIA was able to show that their network's inner weights had high activations to road boundary lines by comparing feature maps from an image with a clear path to one without. Try experimenting with a similar test to show that your trained network's weights are looking for interesting features, whether it's looking at differences in feature maps from images with or without a sign, or even what feature maps look like in a trained network vs a completely untrained one on the same sign image.\n",
    "\n",
    "<figure>\n",
    " <img src=\"visualize_cnn.png\" width=\"380\" alt=\"Combined Image\" />\n",
    " <figcaption>\n",
    " <p></p> \n",
    " <p style=\"text-align: center;\"> Your output should look something like this (above)</p> \n",
    " </figcaption>\n",
    "</figure>\n",
    " <p></p> \n"
   ]
  },
  {
   "cell_type": "code",
   "execution_count": null,
   "metadata": {
    "collapsed": true
   },
   "outputs": [],
   "source": [
    "### Visualize your network's feature maps here.\n",
    "### Feel free to use as many code cells as needed.\n",
    "\n",
    "# image_input: the test image being fed into the network to produce the feature maps\n",
    "# tf_activation: should be a tf variable name used during your training procedure that represents the calculated state of a specific weight layer\n",
    "# activation_min/max: can be used to view the activation contrast in more detail, by default matplot sets min and max to the actual min and max values of the output\n",
    "# plt_num: used to plot out multiple different weight feature map sets on the same block, just extend the plt number for each new feature map entry\n",
    "\n",
    "def outputFeatureMap(image_input, tf_activation, activation_min=-1, activation_max=-1 ,plt_num=1):\n",
    "    # Here make sure to preprocess your image_input in a way your network expects\n",
    "    # with size, normalization, ect if needed\n",
    "    # image_input =\n",
    "    # Note: x should be the same name as your network's tensorflow data placeholder variable\n",
    "    # If you get an error tf_activation is not defined it may be having trouble accessing the variable from inside a function\n",
    "    activation = tf_activation.eval(session=sess,feed_dict={x : image_input})\n",
    "    featuremaps = activation.shape[3]\n",
    "    plt.figure(plt_num, figsize=(15,15))\n",
    "    for featuremap in range(featuremaps):\n",
    "        plt.subplot(6,8, featuremap+1) # sets the number of feature maps to show on each row and column\n",
    "        plt.title('FeatureMap ' + str(featuremap)) # displays the feature map number\n",
    "        if activation_min != -1 & activation_max != -1:\n",
    "            plt.imshow(activation[0,:,:, featuremap], interpolation=\"nearest\", vmin =activation_min, vmax=activation_max, cmap=\"gray\")\n",
    "        elif activation_max != -1:\n",
    "            plt.imshow(activation[0,:,:, featuremap], interpolation=\"nearest\", vmax=activation_max, cmap=\"gray\")\n",
    "        elif activation_min !=-1:\n",
    "            plt.imshow(activation[0,:,:, featuremap], interpolation=\"nearest\", vmin=activation_min, cmap=\"gray\")\n",
    "        else:\n",
    "            plt.imshow(activation[0,:,:, featuremap], interpolation=\"nearest\", cmap=\"gray\")"
   ]
  }
 ],
 "metadata": {
  "anaconda-cloud": {},
  "kernelspec": {
   "display_name": "Python 3",
   "language": "python",
   "name": "python3"
  },
  "language_info": {
   "codemirror_mode": {
    "name": "ipython",
    "version": 3
   },
   "file_extension": ".py",
   "mimetype": "text/x-python",
   "name": "python",
   "nbconvert_exporter": "python",
   "pygments_lexer": "ipython3",
   "version": "3.5.2"
  },
  "widgets": {
   "state": {},
   "version": "1.1.2"
  }
 },
 "nbformat": 4,
 "nbformat_minor": 1
}
